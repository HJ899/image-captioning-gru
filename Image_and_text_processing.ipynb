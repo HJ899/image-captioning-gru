{
  "nbformat": 4,
  "nbformat_minor": 0,
  "metadata": {
    "colab": {
      "name": "Image and text processing",
      "version": "0.3.2",
      "provenance": [],
      "collapsed_sections": []
    },
    "kernelspec": {
      "name": "python3",
      "display_name": "Python 3"
    }
  },
  "cells": [
    {
      "metadata": {
        "id": "D-qaYW1hmp5d",
        "colab_type": "code",
        "outputId": "553b7bd6-9791-421a-a38c-860ac45ae556",
        "colab": {
          "base_uri": "https://localhost:8080/",
          "height": 54
        }
      },
      "cell_type": "code",
      "source": [
        "from google.colab import drive\n",
        "drive.mount('/content/gdrive')"
      ],
      "execution_count": 0,
      "outputs": [
        {
          "output_type": "stream",
          "text": [
            "Drive already mounted at /content/gdrive; to attempt to forcibly remount, call drive.mount(\"/content/gdrive\", force_remount=True).\n"
          ],
          "name": "stdout"
        }
      ]
    },
    {
      "metadata": {
        "id": "22sVvjj7m2Hk",
        "colab_type": "code",
        "outputId": "67ffe18d-03bf-4dc6-f0de-62a79f6eb3da",
        "colab": {
          "base_uri": "https://localhost:8080/",
          "height": 34
        }
      },
      "cell_type": "code",
      "source": [
        "import pandas as pd\n",
        "import pickle\n",
        "import numpy as np\n",
        "from keras.preprocessing import image, sequence"
      ],
      "execution_count": 0,
      "outputs": [
        {
          "output_type": "stream",
          "text": [
            "Using TensorFlow backend.\n"
          ],
          "name": "stderr"
        }
      ]
    },
    {
      "metadata": {
        "id": "2bS2kWfKn7Q7",
        "colab_type": "code",
        "colab": {}
      },
      "cell_type": "code",
      "source": [
        "train_data = pd.read_csv('/content/gdrive/My Drive/Image Captioning Data/TrainImages.txt', delimiter='\\t')\n",
        "val_data = pd.read_csv('/content/gdrive/My Drive/Image Captioning Data/ValidationImages.txt', delimiter='\\t')\n",
        "train_sents_data = train_data.values\n",
        "val_sents_data = val_data.values"
      ],
      "execution_count": 0,
      "outputs": []
    },
    {
      "metadata": {
        "id": "r8rmLsIhQSw5",
        "colab_type": "code",
        "colab": {}
      },
      "cell_type": "code",
      "source": [
        "train_sents = []\n",
        "val_sents = []\n",
        "for ix in range(train_sents_data.shape[0]):\n",
        "  train_sents.append(train_sents_data[ix,1])\n",
        "\n",
        "for ix in range(val_sents_data.shape[0]):\n",
        "  val_sents.append(val_sents_data[ix,1])\n"
      ],
      "execution_count": 0,
      "outputs": []
    },
    {
      "metadata": {
        "id": "m4Qgav4pSHQa",
        "colab_type": "code",
        "outputId": "ad01d771-ffac-4674-e2df-894ebcf9b411",
        "colab": {
          "base_uri": "https://localhost:8080/",
          "height": 34
        }
      },
      "cell_type": "code",
      "source": [
        "print(len(train_sents))"
      ],
      "execution_count": 0,
      "outputs": [
        {
          "output_type": "stream",
          "text": [
            "30000\n"
          ],
          "name": "stdout"
        }
      ]
    },
    {
      "metadata": {
        "id": "B_D6dKuNTVbM",
        "colab_type": "code",
        "colab": {}
      },
      "cell_type": "code",
      "source": [
        "words = [i.split() for i in train_sents]\n",
        "words.extend([i.split() for i in val_sents])"
      ],
      "execution_count": 0,
      "outputs": []
    },
    {
      "metadata": {
        "id": "oPFt8qJaTeag",
        "colab_type": "code",
        "colab": {}
      },
      "cell_type": "code",
      "source": [
        "unique = []\n",
        "for ix in range(len(words)):\n",
        "  unique.extend(words[ix])"
      ],
      "execution_count": 0,
      "outputs": []
    },
    {
      "metadata": {
        "id": "_XmlRwBvTvQm",
        "colab_type": "code",
        "colab": {}
      },
      "cell_type": "code",
      "source": [
        "unique = list(set(unique))"
      ],
      "execution_count": 0,
      "outputs": []
    },
    {
      "metadata": {
        "id": "rMafdx8bTwXZ",
        "colab_type": "code",
        "colab": {}
      },
      "cell_type": "code",
      "source": [
        "words_to_indices = {word:idx for idx,word in enumerate(unique)}\n",
        "indices_to_words = {idx:word for idx,word in enumerate(unique)}"
      ],
      "execution_count": 0,
      "outputs": []
    },
    {
      "metadata": {
        "id": "O6tenInZUf1v",
        "colab_type": "code",
        "outputId": "d0d90d64-5af2-4eef-b9da-66ff87c54ca1",
        "colab": {
          "base_uri": "https://localhost:8080/",
          "height": 34
        }
      },
      "cell_type": "code",
      "source": [
        "total_words = len(unique)\n",
        "word_0idx = indices_to_words[0]\n",
        "indices_to_words[0] = 'UNK'\n",
        "words_to_indices['UNK'] = 0\n",
        "words_to_indices[word_0idx] = total_words\n",
        "indices_to_words[total_words] = word_0idx\n",
        "print(total_words, len(words_to_indices.keys()))"
      ],
      "execution_count": 0,
      "outputs": [
        {
          "output_type": "stream",
          "text": [
            "8918 8919\n"
          ],
          "name": "stdout"
        }
      ]
    },
    {
      "metadata": {
        "id": "Zm42dSglV09_",
        "colab_type": "code",
        "colab": {}
      },
      "cell_type": "code",
      "source": [
        "maxLen = 0\n",
        "for ix in range(len(words)):\n",
        "  maxLen = max(maxLen, len(words[ix]))"
      ],
      "execution_count": 0,
      "outputs": []
    },
    {
      "metadata": {
        "id": "gpMcBY6nXtUR",
        "colab_type": "code",
        "colab": {}
      },
      "cell_type": "code",
      "source": [
        "padded_seqs, subsequent_seqs = [] ,[]\n",
        "\n",
        "for ix in range(train_sents_data.shape[0]):  ##Do Same for Validation.\n",
        "  text = train_sents_data[ix,1].split()\n",
        "  text = [words_to_indices[i] for i in text]\n",
        "  next_words = text[1:]\n",
        "  seq = text[:-1]\n",
        "  padded_seqs.append(seq)\n",
        "  subsequent_seqs.append(next_words)\n",
        "captions = sequence.pad_sequences(padded_seqs, maxLen, padding='post')\n",
        "next_words = sequence.pad_sequences(subsequent_seqs, maxLen, padding='post')\n",
        "next_words = next_words.reshape((next_words.shape[0],next_words.shape[1],1))"
      ],
      "execution_count": 0,
      "outputs": []
    },
    {
      "metadata": {
        "id": "YVoWr0lXbvFG",
        "colab_type": "code",
        "outputId": "1625af7a-4121-4225-cd8b-7589756efe3f",
        "colab": {
          "base_uri": "https://localhost:8080/",
          "height": 34
        }
      },
      "cell_type": "code",
      "source": [
        "print(captions.shape, next_words.shape)"
      ],
      "execution_count": 0,
      "outputs": [
        {
          "output_type": "stream",
          "text": [
            "(30000, 40) (30000, 40, 1)\n"
          ],
          "name": "stdout"
        }
      ]
    },
    {
      "metadata": {
        "id": "dL6w8AdJb0vc",
        "colab_type": "code",
        "colab": {}
      },
      "cell_type": "code",
      "source": [
        "with open('/content/gdrive/My Drive/Image Captioning Data/train_embs.pickle', 'rb') as file:\n",
        "  encoded_images = pickle.load(file)"
      ],
      "execution_count": 0,
      "outputs": []
    },
    {
      "metadata": {
        "id": "j3StB4GBctxd",
        "colab_type": "code",
        "colab": {}
      },
      "cell_type": "code",
      "source": [
        "imgs = []\n",
        "for ix in range(train_sents_data.shape[0]):\n",
        "  img = encoded_images[train_sents_data[ix,0]]\n",
        "  img = img.reshape((2048,))\n",
        "  imgs.append(img)"
      ],
      "execution_count": 0,
      "outputs": []
    },
    {
      "metadata": {
        "id": "QzMgvoOodc4E",
        "colab_type": "code",
        "outputId": "87607944-d5b9-41b0-b0a5-a8275a1fccec",
        "colab": {
          "base_uri": "https://localhost:8080/",
          "height": 34
        }
      },
      "cell_type": "code",
      "source": [
        "imgs = np.array(imgs)\n",
        "print(imgs.shape)"
      ],
      "execution_count": 0,
      "outputs": [
        {
          "output_type": "stream",
          "text": [
            "(30000, 2048)\n"
          ],
          "name": "stdout"
        }
      ]
    },
    {
      "metadata": {
        "id": "jB9N5ZO5dqNX",
        "colab_type": "code",
        "colab": {}
      },
      "cell_type": "code",
      "source": [
        "np.save(\"./captions_train.npy\", captions)       ##Do all same for validation\n",
        "np.save(\"./next_words_train.npy\", next_words)\n",
        "np.save(\"./images_train.npy\", imgs)"
      ],
      "execution_count": 0,
      "outputs": []
    }
  ]
}