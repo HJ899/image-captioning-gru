{
 "cells": [
  {
   "cell_type": "code",
   "execution_count": 0,
   "metadata": {
    "colab": {},
    "colab_type": "code",
    "id": "1D2-1oV6kGoN"
   },
   "outputs": [],
   "source": [
    "import pickle\n",
    "import numpy as np\n",
    "import os\n",
    "import matplotlib.pyplot as plt"
   ]
  },
  {
   "cell_type": "code",
   "execution_count": 28,
   "metadata": {
    "colab": {
     "base_uri": "https://localhost:8080/",
     "height": 54
    },
    "colab_type": "code",
    "id": "_vF1vHGI0L2P",
    "outputId": "4b503d10-1c64-4ca8-fbae-f1c5e328c7e0"
   },
   "outputs": [
    {
     "name": "stdout",
     "output_type": "stream",
     "text": [
      "Drive already mounted at /content/gdrive; to attempt to forcibly remount, call drive.mount(\"/content/gdrive\", force_remount=True).\n"
     ]
    }
   ],
   "source": [
    "from google.colab import drive\n",
    "drive.mount('/content/gdrive')"
   ]
  },
  {
   "cell_type": "code",
   "execution_count": 1,
   "metadata": {
    "colab": {},
    "colab_type": "code",
    "id": "dWvtOEZgkzQP"
   },
   "outputs": [
    {
     "name": "stderr",
     "output_type": "stream",
     "text": [
      "Using TensorFlow backend.\n"
     ]
    }
   ],
   "source": [
    "from keras.models import Model\n",
    "from keras.layers import Input, Dense, GRU, Embedding, TimeDistributed\n",
    "from keras.applications import ResNet50\n",
    "from keras.optimizers import RMSprop"
   ]
  },
  {
   "cell_type": "code",
   "execution_count": 0,
   "metadata": {
    "colab": {},
    "colab_type": "code",
    "id": "3uF6FsA0q2FK"
   },
   "outputs": [],
   "source": [
    "with open('/content/gdrive/My Drive/Image Captioning Data/indices_to_words.pickle', 'rb') as f:\n",
    "  indices_to_words = pickle.load(f)"
   ]
  },
  {
   "cell_type": "code",
   "execution_count": 0,
   "metadata": {
    "colab": {},
    "colab_type": "code",
    "id": "Nygy76osrKvN"
   },
   "outputs": [],
   "source": [
    "with open('/content/gdrive/My Drive/Image Captioning Data/words_to_indices.pickle', 'rb') as f:\n",
    "  words_to_indices = pickle.load(f)"
   ]
  },
  {
   "cell_type": "code",
   "execution_count": 0,
   "metadata": {
    "colab": {},
    "colab_type": "code",
    "id": "ONPY4Tkqrhzg"
   },
   "outputs": [],
   "source": [
    "with open('/content/gdrive/My Drive/Image Captioning Data/images_train.npy', 'rb') as f:\n",
    "  images_train = np.load(f)"
   ]
  },
  {
   "cell_type": "code",
   "execution_count": 0,
   "metadata": {
    "colab": {},
    "colab_type": "code",
    "id": "ep78KT_irwYH"
   },
   "outputs": [],
   "source": [
    "with open('/content/gdrive/My Drive/Image Captioning Data/images_val.npy', 'rb') as f:\n",
    "  images_val = np.load(f)"
   ]
  },
  {
   "cell_type": "code",
   "execution_count": 0,
   "metadata": {
    "colab": {},
    "colab_type": "code",
    "id": "5bEeOBstrzFN"
   },
   "outputs": [],
   "source": [
    "with open('/content/gdrive/My Drive/Image Captioning Data/captions_train.npy', 'rb') as f:\n",
    "  captions_train = np.load(f)"
   ]
  },
  {
   "cell_type": "code",
   "execution_count": 0,
   "metadata": {
    "colab": {},
    "colab_type": "code",
    "id": "KDJIpMeFsdP7"
   },
   "outputs": [],
   "source": [
    "with open('/content/gdrive/My Drive/Image Captioning Data/captions_val.npy', 'rb') as f:\n",
    "  captions_val = np.load(f)"
   ]
  },
  {
   "cell_type": "code",
   "execution_count": 0,
   "metadata": {
    "colab": {},
    "colab_type": "code",
    "id": "nWiNCwruspo9"
   },
   "outputs": [],
   "source": [
    "with open('/content/gdrive/My Drive/Image Captioning Data/next_words_train.npy', 'rb') as f:\n",
    "  next_words_train = np.load(f)"
   ]
  },
  {
   "cell_type": "code",
   "execution_count": 0,
   "metadata": {
    "colab": {},
    "colab_type": "code",
    "id": "nKS46huTsvpu"
   },
   "outputs": [],
   "source": [
    "with open('/content/gdrive/My Drive/Image Captioning Data/next_words_val.npy', 'rb') as f:\n",
    "  next_words_val = np.load(f)"
   ]
  },
  {
   "cell_type": "code",
   "execution_count": 38,
   "metadata": {
    "colab": {
     "base_uri": "https://localhost:8080/",
     "height": 34
    },
    "colab_type": "code",
    "id": "ele-5h90z9Tr",
    "outputId": "7cd04e46-0b43-416e-c031-3f67020e6fac"
   },
   "outputs": [
    {
     "data": {
      "text/plain": [
       "(30000, 40, 1)"
      ]
     },
     "execution_count": 38,
     "metadata": {
      "tags": []
     },
     "output_type": "execute_result"
    }
   ],
   "source": [
    "next_words_train.shape"
   ]
  },
  {
   "cell_type": "code",
   "execution_count": 2,
   "metadata": {
    "colab": {},
    "colab_type": "code",
    "id": "YsCEq9ieszmP"
   },
   "outputs": [],
   "source": [
    "embedding_size = 128\n",
    "maxLen = 40\n",
    "vocab_size = 8919 \n",
    "img_emb_size = 2048\n",
    "state_size = 512"
   ]
  },
  {
   "cell_type": "code",
   "execution_count": 3,
   "metadata": {
    "colab": {},
    "colab_type": "code",
    "id": "vi739rvBuC6v"
   },
   "outputs": [],
   "source": [
    "img_input = Input(shape=(img_emb_size, ), name='Image-Input')\n",
    "img_output = Dense(state_size, activation='tanh', name='Image-output')"
   ]
  },
  {
   "cell_type": "code",
   "execution_count": 4,
   "metadata": {
    "colab": {},
    "colab_type": "code",
    "id": "olGvCScgvZqO"
   },
   "outputs": [],
   "source": [
    "decoder_input = Input(shape=(40,), name='decoder-input')"
   ]
  },
  {
   "cell_type": "code",
   "execution_count": 5,
   "metadata": {
    "colab": {},
    "colab_type": "code",
    "id": "aOiy0ymUv20Z"
   },
   "outputs": [],
   "source": [
    "decoder_embedding = Embedding(input_dim = vocab_size, output_dim = embedding_size, input_length = maxLen, name='decoder-embedding')"
   ]
  },
  {
   "cell_type": "code",
   "execution_count": 6,
   "metadata": {
    "colab": {},
    "colab_type": "code",
    "id": "8HvST7lzw2lJ"
   },
   "outputs": [],
   "source": [
    "decoder_layer1 = GRU(state_size, name='decoder-layer-1', return_sequences = True)\n",
    "decoder_layer2 = GRU(state_size, name='decoder-layer-2', return_sequences = True)\n",
    "decoder_layer3 = GRU(state_size, name='decoder-layer-3', return_sequences = True)"
   ]
  },
  {
   "cell_type": "code",
   "execution_count": 7,
   "metadata": {
    "colab": {},
    "colab_type": "code",
    "id": "Ia9kaDfHxURX"
   },
   "outputs": [],
   "source": [
    "decoder_time_dense = TimeDistributed(Dense(vocab_size, activation='softmax'), name='decoder-output')"
   ]
  },
  {
   "cell_type": "code",
   "execution_count": 8,
   "metadata": {
    "colab": {},
    "colab_type": "code",
    "id": "ho9nDn0zxjJv"
   },
   "outputs": [],
   "source": [
    "initial_state = img_output(img_input)\n",
    "net = decoder_input\n",
    "net = decoder_embedding(net)\n",
    "net = decoder_layer1(net, initial_state = initial_state)\n",
    "net = decoder_layer2(net, initial_state = initial_state)\n",
    "net = decoder_layer3(net, initial_state = initial_state)"
   ]
  },
  {
   "cell_type": "code",
   "execution_count": 9,
   "metadata": {
    "colab": {},
    "colab_type": "code",
    "id": "pA9qtVmdyKg_"
   },
   "outputs": [],
   "source": [
    "decoder_output = decoder_time_dense(net)"
   ]
  },
  {
   "cell_type": "code",
   "execution_count": 10,
   "metadata": {
    "colab": {
     "base_uri": "https://localhost:8080/",
     "height": 71
    },
    "colab_type": "code",
    "id": "hO8TWp7LykWK",
    "outputId": "58aba6ca-4419-455a-d4ff-85b60ebe2b76"
   },
   "outputs": [
    {
     "name": "stderr",
     "output_type": "stream",
     "text": [
      "/Users/hardik/Virtualenvs/mlcb/lib/python3.6/site-packages/ipykernel_launcher.py:1: UserWarning: Update your `Model` call to the Keras 2 API: `Model(inputs=[<tf.Tenso..., outputs=[<tf.Tenso...)`\n",
      "  \"\"\"Entry point for launching an IPython kernel.\n"
     ]
    }
   ],
   "source": [
    "model = Model(inputs=[img_input, decoder_input], output=[decoder_output])"
   ]
  },
  {
   "cell_type": "code",
   "execution_count": 11,
   "metadata": {
    "colab": {
     "base_uri": "https://localhost:8080/",
     "height": 459
    },
    "colab_type": "code",
    "id": "gWY4TMyBywDm",
    "outputId": "93233e72-26b7-46e6-aef9-f0cac92279e5"
   },
   "outputs": [
    {
     "name": "stdout",
     "output_type": "stream",
     "text": [
      "__________________________________________________________________________________________________\n",
      "Layer (type)                    Output Shape         Param #     Connected to                     \n",
      "==================================================================================================\n",
      "decoder-input (InputLayer)      (None, 40)           0                                            \n",
      "__________________________________________________________________________________________________\n",
      "Image-Input (InputLayer)        (None, 2048)         0                                            \n",
      "__________________________________________________________________________________________________\n",
      "decoder-embedding (Embedding)   (None, 40, 128)      1141632     decoder-input[0][0]              \n",
      "__________________________________________________________________________________________________\n",
      "Image-output (Dense)            (None, 512)          1049088     Image-Input[0][0]                \n",
      "__________________________________________________________________________________________________\n",
      "decoder-layer-1 (GRU)           (None, 40, 512)      984576      decoder-embedding[0][0]          \n",
      "                                                                 Image-output[0][0]               \n",
      "__________________________________________________________________________________________________\n",
      "decoder-layer-2 (GRU)           (None, 40, 512)      1574400     decoder-layer-1[0][0]            \n",
      "                                                                 Image-output[0][0]               \n",
      "__________________________________________________________________________________________________\n",
      "decoder-layer-3 (GRU)           (None, 40, 512)      1574400     decoder-layer-2[0][0]            \n",
      "                                                                 Image-output[0][0]               \n",
      "__________________________________________________________________________________________________\n",
      "decoder-output (TimeDistributed (None, 40, 8919)     4575447     decoder-layer-3[0][0]            \n",
      "==================================================================================================\n",
      "Total params: 10,899,543\n",
      "Trainable params: 10,899,543\n",
      "Non-trainable params: 0\n",
      "__________________________________________________________________________________________________\n"
     ]
    }
   ],
   "source": [
    "model.summary()"
   ]
  },
  {
   "cell_type": "code",
   "execution_count": 13,
   "metadata": {
    "colab": {},
    "colab_type": "code",
    "id": "6iH23vwhzF_3"
   },
   "outputs": [],
   "source": [
    "model.compile(optimizer='RMSprop', loss='sparse_categorical_crossentropy')\n",
    "model.load_weights('./model_weights.h5')"
   ]
  },
  {
   "cell_type": "code",
   "execution_count": 0,
   "metadata": {
    "colab": {},
    "colab_type": "code",
    "id": "tnWi7s7J1f08"
   },
   "outputs": [],
   "source": [
    "x_data = {\n",
    "            'decoder-input': captions_train,\n",
    "            'Image-Input': images_train\n",
    "         }\n",
    "y_data = {\n",
    "    'decoder-output': next_words_train\n",
    "}"
   ]
  },
  {
   "cell_type": "code",
   "execution_count": 57,
   "metadata": {
    "colab": {
     "base_uri": "https://localhost:8080/",
     "height": 714
    },
    "colab_type": "code",
    "id": "QiPJDCmNzWQX",
    "outputId": "e922645e-a756-4295-89b4-b20ae93c1722"
   },
   "outputs": [
    {
     "name": "stdout",
     "output_type": "stream",
     "text": [
      "Epoch 1/20\n",
      "30000/30000 [==============================] - 76s 3ms/step - loss: 1.4744\n",
      "Epoch 2/20\n",
      "30000/30000 [==============================] - 74s 2ms/step - loss: 1.1380\n",
      "Epoch 3/20\n",
      "30000/30000 [==============================] - 74s 2ms/step - loss: 1.0159\n",
      "Epoch 4/20\n",
      "30000/30000 [==============================] - 74s 2ms/step - loss: 0.9402\n",
      "Epoch 5/20\n",
      "30000/30000 [==============================] - 74s 2ms/step - loss: 0.8816\n",
      "Epoch 6/20\n",
      "30000/30000 [==============================] - 74s 2ms/step - loss: 0.8327\n",
      "Epoch 7/20\n",
      "30000/30000 [==============================] - 73s 2ms/step - loss: 0.7901\n",
      "Epoch 8/20\n",
      "30000/30000 [==============================] - 73s 2ms/step - loss: 0.7521\n",
      "Epoch 9/20\n",
      "30000/30000 [==============================] - 73s 2ms/step - loss: 0.7171\n",
      "Epoch 10/20\n",
      "30000/30000 [==============================] - 73s 2ms/step - loss: 0.6852\n",
      "Epoch 11/20\n",
      "30000/30000 [==============================] - 73s 2ms/step - loss: 0.6540\n",
      "Epoch 12/20\n",
      "30000/30000 [==============================] - 73s 2ms/step - loss: 0.6248\n",
      "Epoch 13/20\n",
      "30000/30000 [==============================] - 74s 2ms/step - loss: 0.5971\n",
      "Epoch 14/20\n",
      "30000/30000 [==============================] - 73s 2ms/step - loss: 0.5693\n",
      "Epoch 15/20\n",
      "30000/30000 [==============================] - 74s 2ms/step - loss: 0.5435\n",
      "Epoch 16/20\n",
      "30000/30000 [==============================] - 73s 2ms/step - loss: 0.5180\n",
      "Epoch 17/20\n",
      "30000/30000 [==============================] - 73s 2ms/step - loss: 0.4927\n",
      "Epoch 18/20\n",
      "30000/30000 [==============================] - 73s 2ms/step - loss: 0.4678\n",
      "Epoch 19/20\n",
      "30000/30000 [==============================] - 73s 2ms/step - loss: 0.4451\n",
      "Epoch 20/20\n",
      "30000/30000 [==============================] - 73s 2ms/step - loss: 0.4212\n"
     ]
    },
    {
     "data": {
      "text/plain": [
       "<keras.callbacks.History at 0x7fb1819d5fd0>"
      ]
     },
     "execution_count": 57,
     "metadata": {
      "tags": []
     },
     "output_type": "execute_result"
    }
   ],
   "source": [
    "model.fit(x_data, y_data, batch_size=256, epochs=20)"
   ]
  },
  {
   "cell_type": "code",
   "execution_count": 58,
   "metadata": {
    "colab": {
     "base_uri": "https://localhost:8080/",
     "height": 139
    },
    "colab_type": "code",
    "id": "kmoOjjVA2o8N",
    "outputId": "2046daef-a6c4-432c-b44e-3158b37312a3"
   },
   "outputs": [
    {
     "name": "stderr",
     "output_type": "stream",
     "text": [
      "/usr/local/lib/python3.6/dist-packages/keras/engine/network.py:877: UserWarning: Layer decoder-layer-1 was passed non-serializable keyword arguments: {'initial_state': [<tf.Tensor 'Image-output_1/Tanh:0' shape=(?, 512) dtype=float32>]}. They will not be included in the serialized model (and thus will be missing at deserialization time).\n",
      "  '. They will not be included '\n",
      "/usr/local/lib/python3.6/dist-packages/keras/engine/network.py:877: UserWarning: Layer decoder-layer-2 was passed non-serializable keyword arguments: {'initial_state': [<tf.Tensor 'Image-output_1/Tanh:0' shape=(?, 512) dtype=float32>]}. They will not be included in the serialized model (and thus will be missing at deserialization time).\n",
      "  '. They will not be included '\n",
      "/usr/local/lib/python3.6/dist-packages/keras/engine/network.py:877: UserWarning: Layer decoder-layer-3 was passed non-serializable keyword arguments: {'initial_state': [<tf.Tensor 'Image-output_1/Tanh:0' shape=(?, 512) dtype=float32>]}. They will not be included in the serialized model (and thus will be missing at deserialization time).\n",
      "  '. They will not be included '\n"
     ]
    }
   ],
   "source": [
    "model.save('image-cap-model.h5')"
   ]
  },
  {
   "cell_type": "code",
   "execution_count": 0,
   "metadata": {
    "colab": {},
    "colab_type": "code",
    "id": "M_92_422_py0"
   },
   "outputs": [],
   "source": [
    "model.save_weights(\"./model_weights.h5\")"
   ]
  },
  {
   "cell_type": "code",
   "execution_count": 14,
   "metadata": {
    "colab": {},
    "colab_type": "code",
    "id": "vFq60K85A0fp"
   },
   "outputs": [
    {
     "data": {
      "text/plain": [
       "[array([[-0.12980668, -0.20748658, -0.23258394, ...,  0.07226366,\n",
       "         -0.18122517,  0.10592537],\n",
       "        [-0.07265926, -0.0601264 , -0.00825674, ...,  0.04235341,\n",
       "         -0.01624523,  0.06026336],\n",
       "        [-0.00915301,  0.07104307, -0.04051955, ..., -0.04782885,\n",
       "          0.04540734,  0.01736098],\n",
       "        ...,\n",
       "        [-0.04228642,  0.00067012, -0.01512671, ...,  0.00445633,\n",
       "          0.0223436 ,  0.00868735],\n",
       "        [-0.05606803, -0.03827476, -0.01715764, ...,  0.01013056,\n",
       "         -0.02649954,  0.03117946],\n",
       "        [-0.03419574, -0.00163113, -0.04230185, ...,  0.03912022,\n",
       "         -0.05919104,  0.04827494]], dtype=float32),\n",
       " array([[ 0.00282478,  0.02775853,  0.06116672, ..., -0.13835436,\n",
       "          0.03946351, -0.04980527],\n",
       "        [-0.01870038,  0.03940734,  0.0202294 , ...,  0.01407946,\n",
       "          0.0062386 ,  0.05606497],\n",
       "        [ 0.04050946,  0.03650239,  0.09849489, ...,  0.02190135,\n",
       "         -0.03008177,  0.01742705],\n",
       "        ...,\n",
       "        [-0.00047515,  0.00840705,  0.04281092, ...,  0.01399892,\n",
       "          0.01780904, -0.04281993],\n",
       "        [-0.03754417, -0.01802767, -0.01354842, ...,  0.06909496,\n",
       "         -0.01629408,  0.01906959],\n",
       "        [-0.01119891, -0.03877642,  0.00351219, ..., -0.04097458,\n",
       "          0.01836258,  0.04768909]], dtype=float32),\n",
       " array([ 1.07031232e-02,  4.24562907e-03,  1.99547876e-03,  2.05154922e-02,\n",
       "         1.13516627e-02,  9.15829442e-04, -7.59664690e-03, -7.11674686e-04,\n",
       "        -1.12007624e-02,  3.01007321e-03, -8.23009200e-03, -5.18122502e-03,\n",
       "        -6.99409656e-03, -1.70024671e-02, -1.00034876e-02, -4.92061442e-03,\n",
       "        -2.05865130e-03,  1.08043067e-02, -1.14913182e-02, -8.70836154e-03,\n",
       "         1.44891934e-02, -9.99593828e-03,  6.03994168e-03,  1.29043041e-02,\n",
       "        -1.58888269e-02, -5.18060150e-03,  4.63013304e-04,  1.09731378e-02,\n",
       "        -6.67558238e-03, -8.29740334e-03,  1.99738313e-02, -6.76354673e-03,\n",
       "         1.24009019e-02,  1.28353974e-02,  3.06359516e-03,  1.77984983e-02,\n",
       "         8.68601352e-03,  2.14762148e-03, -9.88504477e-03, -1.43404696e-02,\n",
       "         1.03743076e-02, -6.71091024e-03, -5.01385797e-03, -1.98854506e-03,\n",
       "         7.16278190e-03, -8.74362513e-03,  7.33364932e-03,  1.53209222e-02,\n",
       "        -6.40216935e-03, -1.15896333e-02, -2.41338438e-03,  4.78506321e-03,\n",
       "        -5.41379908e-03,  9.62073728e-03,  1.04482342e-02, -9.17001348e-03,\n",
       "        -3.20822112e-02,  1.42066842e-02, -9.86387208e-03,  2.13688239e-03,\n",
       "        -4.95068030e-03, -7.11376220e-03,  1.09427348e-02,  3.31222988e-03,\n",
       "         2.76686950e-03, -2.65417225e-03, -8.11724365e-03, -2.25656200e-04,\n",
       "        -1.85772348e-02, -3.59360990e-03, -1.09443190e-02,  5.43544535e-03,\n",
       "         3.43001680e-03,  3.38757760e-03, -1.36837196e-02,  1.21523514e-02,\n",
       "         1.06405597e-02,  1.06201256e-02, -1.30271427e-02, -1.34698320e-02,\n",
       "         4.12481185e-03, -4.75857873e-04,  3.07951961e-03,  1.30953956e-02,\n",
       "        -4.52923775e-03, -4.38868674e-03,  2.02552939e-04,  2.98731873e-04,\n",
       "         8.52954574e-03, -1.45774586e-02,  2.22145971e-02,  2.24734433e-02,\n",
       "         4.96317772e-03,  1.57307684e-02, -9.56521835e-03, -6.47039758e-03,\n",
       "        -1.38972420e-03, -2.17166170e-03,  2.41711158e-02, -1.13537312e-02,\n",
       "        -2.05748342e-02,  1.63768057e-03, -1.66215375e-03,  1.17627550e-02,\n",
       "        -9.29578114e-03, -2.50302302e-03,  1.05683692e-02,  6.16556499e-03,\n",
       "        -1.14588086e-02, -1.11707235e-02, -1.36081018e-02, -1.08343745e-02,\n",
       "        -1.07708853e-02,  2.87808347e-02, -5.64969005e-03,  1.82356674e-03,\n",
       "         3.71345505e-03,  1.18165845e-02, -1.00431610e-02, -1.13841705e-03,\n",
       "         3.92530346e-03,  2.75225868e-03,  8.24834127e-03,  3.26014194e-03,\n",
       "        -1.23155797e-02,  2.58853547e-02, -2.20484077e-03, -1.23451063e-02,\n",
       "         2.88149342e-04, -1.05648087e-02, -1.01630418e-02,  2.01921351e-03,\n",
       "        -1.46304648e-02, -2.69456417e-03,  1.89704746e-02, -1.18488129e-02,\n",
       "         3.53692938e-03,  2.81092804e-03, -1.18884332e-02, -4.43702424e-03,\n",
       "         7.77814211e-03, -6.01350004e-03,  2.91322765e-04, -1.21626686e-02,\n",
       "        -1.16247889e-02, -3.03367246e-03, -4.73598577e-03, -2.12616120e-02,\n",
       "         1.02780247e-02,  5.24768233e-03, -3.68909677e-05, -1.51765998e-02,\n",
       "         1.12167401e-02, -1.19023779e-02, -5.90966083e-03,  8.10600538e-03,\n",
       "         2.13676374e-02, -1.19998734e-02,  2.16080993e-02,  7.08799483e-03,\n",
       "        -5.90314111e-03,  3.82042979e-03, -6.14754902e-03,  1.10982209e-02,\n",
       "         1.78192221e-02,  1.10179102e-02,  1.57650243e-02,  1.08949570e-02,\n",
       "         1.33405244e-02, -4.78813937e-03,  1.78087540e-02, -7.49663869e-03,\n",
       "        -2.57124770e-02,  9.45424195e-03,  4.50729392e-03, -1.23843402e-02,\n",
       "         9.23036225e-03,  1.72121469e-02,  7.51662953e-03,  3.88110080e-03,\n",
       "        -5.89772873e-03, -4.01295343e-04,  7.00783683e-03,  9.10877716e-03,\n",
       "        -1.39332388e-03, -1.27698807e-02,  8.81016999e-03,  1.23162298e-02,\n",
       "         2.77941884e-03,  1.14214020e-02,  1.29247792e-02, -3.55615914e-02,\n",
       "        -9.98071395e-03,  2.78911227e-03, -8.26897472e-03, -1.40532767e-02,\n",
       "         1.02219163e-02,  1.20542552e-02, -4.96476609e-03,  5.33171836e-03,\n",
       "        -1.35545293e-02, -3.39830643e-03, -4.34073014e-03, -3.51257250e-03,\n",
       "        -1.50968479e-02,  1.07881324e-02,  1.07138548e-02,  3.21796164e-03,\n",
       "        -1.12794368e-02,  1.24840485e-03,  1.21496953e-02,  1.09521048e-02,\n",
       "        -7.04670837e-03, -6.42107148e-03, -1.62400603e-02, -1.07844053e-02,\n",
       "        -6.78175408e-03,  4.67996672e-03, -6.59579760e-04, -9.79619194e-03,\n",
       "        -1.89832710e-02,  1.06289098e-02, -7.10129365e-03,  2.55865715e-02,\n",
       "        -1.23428162e-02,  4.20506671e-03,  1.16555151e-02, -1.05578536e-02,\n",
       "         3.93611286e-03,  1.20275700e-02, -1.63105521e-02, -1.26363337e-02,\n",
       "         3.51727451e-03,  1.17685320e-02,  1.04924645e-02, -1.13600923e-03,\n",
       "         6.19160710e-04,  7.21044978e-03,  5.96416648e-05,  2.02247854e-02,\n",
       "        -2.30904296e-03, -1.46669243e-02, -4.72538825e-03, -1.95921282e-03,\n",
       "        -5.49012842e-03, -1.44619374e-02, -8.71927384e-03,  6.14404073e-03,\n",
       "         4.93097294e-04,  1.37506276e-02,  1.20775048e-02, -7.01605342e-03,\n",
       "        -1.16782021e-02, -6.15523150e-03,  3.49821011e-03, -1.54290837e-03,\n",
       "         1.02378251e-02,  1.13289431e-02, -6.94921752e-03,  8.53531994e-03,\n",
       "         1.31788338e-02,  9.95890936e-04,  6.88057253e-03,  1.20697301e-02,\n",
       "         5.64243062e-04,  1.52522570e-03,  9.53917392e-03,  2.93334713e-03,\n",
       "        -1.00604314e-02, -1.26510775e-02,  3.35935294e-03,  9.59775969e-03,\n",
       "         1.84765439e-02,  1.02027562e-02,  1.27016753e-02, -5.62876277e-03,\n",
       "        -7.28054903e-03,  5.21608302e-03, -7.92978983e-03, -1.39381671e-02,\n",
       "         7.10176537e-03, -1.13583319e-02,  9.46474355e-03,  6.84599672e-03,\n",
       "         1.17520411e-02, -1.09793525e-02,  5.31871710e-03,  2.04923153e-02,\n",
       "         2.64426833e-03, -3.93083179e-03,  5.17293392e-03,  9.41086467e-03,\n",
       "         2.09980924e-03,  2.58570034e-02, -5.52294962e-03,  1.09252399e-02,\n",
       "        -6.83847582e-04,  4.01407760e-03, -1.91571042e-02, -1.60069503e-02,\n",
       "        -1.01366416e-02,  1.90057214e-02, -1.07903853e-02, -2.76879594e-03,\n",
       "         4.13543265e-03, -1.14154983e-02, -9.07465350e-03, -3.40782106e-03,\n",
       "        -1.19569888e-02, -9.37977061e-03,  1.15676811e-02,  1.45346243e-02,\n",
       "         1.31179290e-02, -9.21320450e-03,  1.97440591e-02,  1.48476884e-02,\n",
       "         2.12691259e-02,  1.97256524e-02,  9.80417803e-03,  6.07750611e-03,\n",
       "         4.16506873e-03, -9.24984924e-04, -7.04825856e-04, -8.25895555e-03,\n",
       "        -1.28808618e-02, -7.10168295e-03, -3.98544921e-03, -9.73870978e-03,\n",
       "        -7.63954129e-03, -1.04910163e-02, -1.65598490e-03, -1.46951969e-03,\n",
       "        -1.30021414e-02,  1.33291781e-02, -4.06388752e-03, -4.94475011e-03,\n",
       "        -1.20332567e-02,  2.24623131e-03,  1.25455176e-02, -2.00264622e-04,\n",
       "        -2.69294009e-02, -1.08487494e-02, -8.17059912e-03, -9.27856751e-03,\n",
       "        -3.09631345e-04,  1.05414763e-02,  7.62922270e-03, -1.68151036e-02,\n",
       "         9.27613862e-03, -1.33855110e-02, -3.11040413e-02, -7.64375599e-03,\n",
       "        -1.10387160e-02,  1.48890791e-02,  1.20030763e-02,  1.39276152e-02,\n",
       "         1.14276884e-02, -1.22614694e-03,  1.05528543e-02, -7.00917654e-03,\n",
       "        -1.31936753e-02, -1.58202797e-02,  1.05567556e-02,  2.03648340e-02,\n",
       "        -7.34232413e-03,  7.57104019e-04,  1.55435139e-02,  4.67426330e-03,\n",
       "         1.56434011e-02,  8.84355861e-04, -1.32121556e-02,  9.60016996e-03,\n",
       "        -2.12034513e-03,  1.09170470e-02,  6.31957967e-03,  1.90820184e-03,\n",
       "        -8.85514822e-03, -7.99955858e-04,  7.99013767e-03,  5.15073724e-03,\n",
       "         1.26092322e-02, -9.48672555e-03, -1.35784328e-03,  1.04985209e-02,\n",
       "         3.12759820e-03, -2.10124161e-03,  1.31057668e-03, -6.99044811e-03,\n",
       "        -3.51537764e-03, -3.72065697e-05, -1.72174908e-03,  1.27576236e-02,\n",
       "         1.03405816e-03,  2.55036782e-02,  1.04447361e-02,  4.61443234e-03,\n",
       "         2.81815534e-03, -9.82595049e-03, -2.75674206e-03, -9.69698536e-04,\n",
       "         7.12038018e-03,  1.00946734e-02, -7.31443847e-03, -1.98071846e-03,\n",
       "        -6.68791309e-03,  2.33562547e-04,  1.40943425e-02, -6.18132297e-03,\n",
       "        -8.26987997e-03,  8.33316335e-06,  9.91346408e-03,  5.05717378e-03,\n",
       "        -5.41801471e-03,  1.09878918e-02, -4.23688022e-03,  8.70703254e-03,\n",
       "        -6.16874080e-03,  4.58661979e-03,  7.35416892e-04,  1.95504576e-02,\n",
       "         2.66246479e-02, -5.97768649e-03,  3.44968587e-03,  8.03484861e-03,\n",
       "        -6.14419859e-03,  9.03361756e-03,  7.53559265e-03, -5.37677342e-03,\n",
       "         1.28900325e-02, -9.43617336e-03,  9.33048595e-03, -9.90490522e-03,\n",
       "         1.07809412e-03,  1.45820361e-02,  9.76150669e-03,  4.97686630e-03,\n",
       "         1.66429058e-02, -1.58491004e-02, -5.58023481e-03,  3.72229493e-03,\n",
       "         1.20137986e-02,  2.65819323e-03, -5.94142079e-03, -2.70539825e-03,\n",
       "        -4.47823526e-03, -7.07349228e-03,  1.14130713e-02, -1.22094247e-03,\n",
       "         1.17914798e-02, -1.54126333e-02,  9.57881473e-03,  1.11474167e-03,\n",
       "        -8.91990121e-03,  1.38324185e-03, -6.72616437e-03, -1.01919603e-02,\n",
       "        -1.47994254e-02,  5.34016080e-03,  1.13814604e-04,  6.57176180e-03,\n",
       "        -1.47849591e-02,  1.00748418e-02,  1.34320827e-02,  1.96510111e-03,\n",
       "        -1.08237006e-02, -1.88794336e-03, -5.98762278e-03, -2.21225228e-02,\n",
       "        -4.87135927e-04,  3.15822056e-03,  3.46420705e-03,  3.10848234e-03,\n",
       "         7.89430458e-04, -1.18045155e-02, -1.08218128e-02, -7.37645617e-03,\n",
       "         5.96009381e-03,  1.50357177e-02, -5.99051546e-03, -8.76404252e-03,\n",
       "         1.61750037e-02,  1.62828015e-03,  2.38133632e-02,  1.85897143e-03,\n",
       "        -2.93851783e-03,  6.39574230e-03,  1.46254078e-02, -3.50388116e-03,\n",
       "        -9.08907130e-03,  1.08472677e-02, -1.10635748e-02,  1.18917394e-02,\n",
       "         1.04589025e-02,  1.14574218e-02, -1.90573819e-02, -1.16901482e-02,\n",
       "         2.38674097e-02, -1.19375754e-02,  3.55366879e-04, -1.44813843e-02,\n",
       "         1.53154936e-02, -1.28851449e-02,  5.96908154e-03, -1.11080687e-02,\n",
       "         1.80297662e-02, -1.35797577e-03,  1.00741517e-02, -1.51456865e-02,\n",
       "         1.85938254e-02,  9.07256640e-03,  2.04091240e-02,  2.51791924e-02],\n",
       "       dtype=float32),\n",
       " array([[-0.04808271, -0.09381927, -0.16053775, ...,  0.09929647,\n",
       "         -0.12830672, -0.1472121 ],\n",
       "        [-0.00732062,  0.086372  , -0.02629676, ...,  0.01761704,\n",
       "          0.1530905 ,  0.06749654],\n",
       "        [-0.00585732,  0.17985657, -0.02370663, ...,  0.07560418,\n",
       "          0.05225048, -0.1439062 ],\n",
       "        ...,\n",
       "        [ 0.0473424 , -0.02011146,  0.2668379 , ..., -0.04409397,\n",
       "         -0.02735751, -0.05324713],\n",
       "        [-0.0452442 ,  0.09319321,  0.17849937, ..., -0.04834099,\n",
       "          0.15054777,  0.0748337 ],\n",
       "        [ 0.06389903,  0.18146364,  0.1064953 , ..., -0.15602548,\n",
       "          0.1083364 ,  0.17489363]], dtype=float32),\n",
       " array([[ 3.93020175e-03,  5.44014908e-02,  6.95959330e-02, ...,\n",
       "          4.87477183e-02,  3.09946612e-02,  6.92644566e-02],\n",
       "        [ 8.27205554e-03, -2.18706168e-02, -2.67693065e-02, ...,\n",
       "          4.46412079e-02, -3.20842229e-02, -3.20644826e-02],\n",
       "        [ 5.81189152e-03, -4.54998873e-02,  5.21552516e-04, ...,\n",
       "          2.06621103e-02,  1.65028181e-02,  4.35931608e-02],\n",
       "        ...,\n",
       "        [ 4.02330793e-03,  1.65190212e-02, -1.03640258e-01, ...,\n",
       "          4.50841039e-02,  3.43368575e-02, -6.52620494e-02],\n",
       "        [ 3.36403609e-03,  1.11564258e-02, -2.66469829e-02, ...,\n",
       "          1.03094964e-04, -2.85340808e-02, -3.39115746e-02],\n",
       "        [ 1.08122667e-02,  1.75153241e-02,  2.36874428e-02, ...,\n",
       "          2.47206446e-02, -1.12026129e-02,  1.94176678e-02]], dtype=float32),\n",
       " array([-0.04792121, -0.07669882, -0.0354636 , ..., -0.00842973,\n",
       "        -0.02071558, -0.03634636], dtype=float32),\n",
       " array([[ 0.10986434, -0.08644796,  0.02152381, ...,  0.22033344,\n",
       "         -0.17169492,  0.00909323],\n",
       "        [-0.12257761,  0.14082202, -0.02346222, ...,  0.04523781,\n",
       "         -0.04558506,  0.1355876 ],\n",
       "        [-0.01951279, -0.04997988, -0.03231171, ...,  0.08883528,\n",
       "          0.0646394 ,  0.10797782],\n",
       "        ...,\n",
       "        [ 0.03387231, -0.13304675, -0.00697976, ...,  0.022207  ,\n",
       "          0.01652426, -0.07233732],\n",
       "        [ 0.06627578, -0.07446256,  0.00823059, ...,  0.00028369,\n",
       "         -0.0396667 , -0.18686187],\n",
       "        [ 0.01606429, -0.02467144,  0.02413568, ...,  0.00966578,\n",
       "          0.00795778, -0.10498422]], dtype=float32),\n",
       " array([[ 0.02080627, -0.01843602, -0.13343365, ...,  0.00428861,\n",
       "          0.04193157,  0.03363089],\n",
       "        [ 0.01524416,  0.12160173, -0.01286398, ..., -0.0085906 ,\n",
       "         -0.07010814, -0.07395882],\n",
       "        [ 0.06232885,  0.06009245, -0.05905713, ...,  0.09530085,\n",
       "          0.04860637,  0.11643635],\n",
       "        ...,\n",
       "        [ 0.07394969, -0.05049919, -0.03928375, ...,  0.0692346 ,\n",
       "          0.15643665,  0.03034065],\n",
       "        [ 0.03952175,  0.02600314, -0.03611719, ...,  0.0446629 ,\n",
       "          0.0305059 ,  0.08806062],\n",
       "        [ 0.08202974, -0.08048813,  0.11136368, ..., -0.05783596,\n",
       "         -0.00290944,  0.09845892]], dtype=float32),\n",
       " array([ 0.0076883 , -0.06237874, -0.094777  , ..., -0.07282933,\n",
       "         0.00594463, -0.03903114], dtype=float32),\n",
       " array([[-0.01350234, -0.00703452, -0.06684602, ...,  0.02733581,\n",
       "         -0.02008403,  0.01785969],\n",
       "        [-0.04178274,  0.01358073,  0.00185829, ..., -0.09231022,\n",
       "          0.02143997,  0.05937828],\n",
       "        [-0.02119171,  0.13935645,  0.06124873, ..., -0.02939808,\n",
       "         -0.21567845,  0.03092985],\n",
       "        ...,\n",
       "        [-0.04955988,  0.11110753,  0.08215377, ..., -0.0239782 ,\n",
       "         -0.09004567,  0.02149966],\n",
       "        [-0.00431698, -0.06839661, -0.15658657, ..., -0.0484699 ,\n",
       "         -0.10819139,  0.09306484],\n",
       "        [ 0.00685012, -0.06842116, -0.04977073, ...,  0.08513407,\n",
       "          0.09375746,  0.00908738]], dtype=float32),\n",
       " array([[-0.07288779, -0.03161534, -0.02615223, ...,  0.0199402 ,\n",
       "         -0.03171127, -0.10541712],\n",
       "        [ 0.12512326,  0.07383186,  0.19125234, ...,  0.05630231,\n",
       "         -0.06430179,  0.17025378],\n",
       "        [ 0.01974714,  0.00148709, -0.05619408, ..., -0.0976385 ,\n",
       "         -0.1226465 , -0.05309026],\n",
       "        ...,\n",
       "        [ 0.08329318,  0.15534203,  0.00828527, ...,  0.26028496,\n",
       "          0.0136853 ,  0.01000027],\n",
       "        [ 0.09211069,  0.05400465, -0.01982652, ..., -0.02379631,\n",
       "          0.01758304,  0.04193954],\n",
       "        [-0.07717314, -0.03159484,  0.15786856, ..., -0.11105227,\n",
       "          0.07385395, -0.0218802 ]], dtype=float32),\n",
       " array([-0.08655521,  0.02160208,  0.0383772 , ...,  0.04216126,\n",
       "         0.02400947, -0.0463892 ], dtype=float32),\n",
       " array([[-0.0602997 , -0.08093521, -0.05333743, ..., -0.02278123,\n",
       "         -0.00230637, -0.01332567],\n",
       "        [ 0.22641055,  0.12006154,  0.14062823, ...,  0.08966978,\n",
       "         -0.00365136,  0.08270711],\n",
       "        [-0.06658339, -0.10840477,  0.10701434, ...,  0.08284181,\n",
       "          0.00153593, -0.01117534],\n",
       "        ...,\n",
       "        [ 0.3681659 ,  0.08728493,  0.1469418 , ...,  0.14482835,\n",
       "          0.18874258,  0.1506455 ],\n",
       "        [-0.0292658 , -0.00171595, -0.02951801, ...,  0.02223412,\n",
       "          0.01355671,  0.01442804],\n",
       "        [-0.0391244 , -0.00050958,  0.03595759, ..., -0.05188661,\n",
       "         -0.04710423, -0.00652883]], dtype=float32),\n",
       " array([-0.8314252 , -0.50264865, -0.22790258, ..., -0.5843807 ,\n",
       "        -0.8119734 , -0.77744794], dtype=float32)]"
      ]
     },
     "execution_count": 14,
     "metadata": {},
     "output_type": "execute_result"
    }
   ],
   "source": [
    "model.get_weights()"
   ]
  },
  {
   "cell_type": "code",
   "execution_count": null,
   "metadata": {},
   "outputs": [],
   "source": []
  }
 ],
 "metadata": {
  "accelerator": "GPU",
  "colab": {
   "name": "Image Cap Model",
   "provenance": [],
   "version": "0.3.2"
  },
  "kernelspec": {
   "display_name": "Python 3",
   "language": "python",
   "name": "python3"
  },
  "language_info": {
   "codemirror_mode": {
    "name": "ipython",
    "version": 3
   },
   "file_extension": ".py",
   "mimetype": "text/x-python",
   "name": "python",
   "nbconvert_exporter": "python",
   "pygments_lexer": "ipython3",
   "version": "3.6.5"
  }
 },
 "nbformat": 4,
 "nbformat_minor": 1
}
